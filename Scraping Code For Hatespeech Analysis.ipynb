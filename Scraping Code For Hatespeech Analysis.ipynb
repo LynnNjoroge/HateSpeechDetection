{
  "nbformat": 4,
  "nbformat_minor": 0,
  "metadata": {
    "colab": {
      "name": "Copy of Hate speech Tweepy.ipynb",
      "provenance": [],
      "collapsed_sections": [
        "NTD9qlzshi_M"
      ]
    },
    "kernelspec": {
      "display_name": "Python 3",
      "name": "python3"
    },
    "language_info": {
      "name": "python"
    }
  },
  "cells": [
    {
      "cell_type": "markdown",
      "metadata": {
        "id": "NTD9qlzshi_M"
      },
      "source": [
        "# Credentials"
      ]
    },
    {
      "cell_type": "code",
      "metadata": {
        "colab": {
          "base_uri": "https://localhost:8080/"
        },
        "id": "DwLzbkv3Q8Ew",
        "outputId": "a929d242-f07f-4b36-8581-d6278b1b3bd0"
      },
      "source": [
        "!pip install tweepy"
      ],
      "execution_count": null,
      "outputs": [
        {
          "output_type": "stream",
          "text": [
            "Requirement already satisfied: tweepy in /usr/local/lib/python3.7/dist-packages (3.10.0)\n",
            "Requirement already satisfied: requests[socks]>=2.11.1 in /usr/local/lib/python3.7/dist-packages (from tweepy) (2.23.0)\n",
            "Requirement already satisfied: requests-oauthlib>=0.7.0 in /usr/local/lib/python3.7/dist-packages (from tweepy) (1.3.0)\n",
            "Requirement already satisfied: six>=1.10.0 in /usr/local/lib/python3.7/dist-packages (from tweepy) (1.15.0)\n",
            "Requirement already satisfied: idna<3,>=2.5 in /usr/local/lib/python3.7/dist-packages (from requests[socks]>=2.11.1->tweepy) (2.10)\n",
            "Requirement already satisfied: chardet<4,>=3.0.2 in /usr/local/lib/python3.7/dist-packages (from requests[socks]>=2.11.1->tweepy) (3.0.4)\n",
            "Requirement already satisfied: urllib3!=1.25.0,!=1.25.1,<1.26,>=1.21.1 in /usr/local/lib/python3.7/dist-packages (from requests[socks]>=2.11.1->tweepy) (1.24.3)\n",
            "Requirement already satisfied: certifi>=2017.4.17 in /usr/local/lib/python3.7/dist-packages (from requests[socks]>=2.11.1->tweepy) (2020.12.5)\n",
            "Requirement already satisfied: PySocks!=1.5.7,>=1.5.6; extra == \"socks\" in /usr/local/lib/python3.7/dist-packages (from requests[socks]>=2.11.1->tweepy) (1.7.1)\n",
            "Requirement already satisfied: oauthlib>=3.0.0 in /usr/local/lib/python3.7/dist-packages (from requests-oauthlib>=0.7.0->tweepy) (3.1.0)\n"
          ],
          "name": "stdout"
        }
      ]
    },
    {
      "cell_type": "code",
      "metadata": {
        "id": "4vY00fmKhhAV"
      },
      "source": [
        "import tweepy\n",
        "import pandas as pd\n",
        "####input your credentials here\n",
        "consumer_key = ''\n",
        "consumer_secret = ''\n",
        "access_token = ''\n",
        "access_token_secret = ''"
      ],
      "execution_count": null,
      "outputs": []
    },
    {
      "cell_type": "markdown",
      "metadata": {
        "id": "CslM_W-OhpFM"
      },
      "source": [
        "# Scraping"
      ]
    },
    {
      "cell_type": "code",
      "metadata": {
        "id": "wmjjGTTOP-Kn"
      },
      "source": [
        "auth = tweepy.OAuthHandler(consumer_key, consumer_secret)\n",
        "auth.set_access_token(access_token, access_token_secret)\n",
        "# will notify user on ratelimit and will wait by it self no need of sleep.\n",
        "api = tweepy.API(auth, wait_on_rate_limit=True, wait_on_rate_limit_notify=True)\n",
        "\n",
        "\n",
        "search_words = \"\"\n",
        "date_since = \"2007-01-01\"\n",
        "#date_until = \"2020-12-31\"\n",
        "geoc=\"-1.28333,36.81667,300km\"\n",
        "\n",
        "# use the .Cursor method to get an object containing tweets containing the hashtag\n",
        "#use .Cursor() to search twitter for tweets containing the search term.\n",
        "#You can restrict the number of tweets returned by specifying a number in the .items() method.\n",
        "\n",
        "tweets = tweepy.Cursor(api.search,\n",
        "                       q=search_words,\n",
        "                       lang=\"en\",\n",
        "                       since=date_since,\n",
        "                       #until=date_until,\n",
        "                       geocode=geoc).items()\n",
        "\n",
        "[tweet.text for tweet in tweets]\n",
        "\n",
        "#Sometimes you may want to remove retweets as they contain duplicate content \n",
        "#that might skew your analysis if you are only looking at word frequency\n",
        "#below you ignore all retweets by adding -filter:retweets to your query\n",
        "\n",
        "new_search = search_words + \" -filter:retweets\" + \" -filter:links\"\n",
        "new_search\n",
        "\n",
        "tweets = tweepy.Cursor(api.search, \n",
        "                           q=new_search,\n",
        "                           lang=\"en\",\n",
        "                           since=date_since, #until=date_until,\n",
        "                        geocode=geoc,\n",
        "                           tweet_mode= 'extended').items()\n",
        "\n",
        "\n",
        "users_locs = [[tweet.user.screen_name,\n",
        "               tweet.full_text,\n",
        "               tweet.user.location,\n",
        "               tweet.user.description,\n",
        "               tweet.user.friends_count,\n",
        "               tweet.user.followers_count,\n",
        "               tweet.user.statuses_count,\n",
        "               tweet.created_at,\n",
        "               tweet.retweet_count,\n",
        "               tweet.favorite_count, \n",
        "               tweet.entities['hashtags']] for tweet in tweets]\n",
        "users_locs\n",
        "hate1 = pd.DataFrame(data=users_locs, \n",
        "                    columns=['user', 'tweet',\"location\", 'description','friends_count','followers_count', \n",
        "                             'statuses_count', 'tweet_date', 'retweet_count','likes', 'hashtags'])\n",
        "hate1"
      ],
      "execution_count": null,
      "outputs": []
    },
    {
      "cell_type": "code",
      "metadata": {
        "id": "sEJxmLSYRBvY"
      },
      "source": [
        "# let us export our final dataframe to csv\n",
        "hate1.to_csv('sampledata1.csv')"
      ],
      "execution_count": null,
      "outputs": []
    },
    {
      "cell_type": "markdown",
      "metadata": {
        "id": "lRsVT-sTq4G-"
      },
      "source": [
        "# Merging the Data\n"
      ]
    },
    {
      "cell_type": "code",
      "metadata": {
        "id": "GwSACOWcTAYS"
      },
      "source": [
        "import pandas as pd\n",
        "a = pd.read_csv('/content/sampledata1.csv')\n",
        "b = pd.read_csv('/content/sampledata2.csv')\n",
        "c = pd.read_csv('/content/sampledata3.csv')\n",
        "d = pd.read_csv('/content/sampledata4.csv')\n",
        "e = pd.read_csv('/content/sampledata5.csv')\n"
      ],
      "execution_count": null,
      "outputs": []
    },
    {
      "cell_type": "code",
      "metadata": {
        "colab": {
          "base_uri": "https://localhost:8080/"
        },
        "id": "mO1sveX6q84-",
        "outputId": "def27799-18b6-40f1-ae6b-cd9f76274eaf"
      },
      "source": [
        "frames = [a, b, c, d, e]\n",
        "\n",
        "sample_dataset2 = pd.concat(frames)\n",
        "sample_dataset2.shape"
      ],
      "execution_count": null,
      "outputs": [
        {
          "output_type": "execute_result",
          "data": {
            "text/plain": [
              "(686, 12)"
            ]
          },
          "metadata": {
            "tags": []
          },
          "execution_count": 45
        }
      ]
    },
    {
      "cell_type": "code",
      "metadata": {
        "colab": {
          "base_uri": "https://localhost:8080/"
        },
        "id": "mZ9jHSCRDUyg",
        "outputId": "fe711f7c-18b1-441e-d1fd-f4ba08a41275"
      },
      "source": [
        "import pandas as pd\n",
        "f = pd.read_csv('/content/Sampledata6.csv')\n",
        "g = pd.read_csv('/content/sampledata7.csv')\n",
        "h = pd.read_csv('/content/sampledata8.csv')\n",
        "i = pd.read_csv('/content/sampledata9.csv')\n",
        "j = pd.read_csv('/content/sampledata10.csv')\n",
        "\n",
        "frames = [f, g, h, i, j]\n",
        "\n",
        "sample_dataset3 = pd.concat(frames)\n",
        "sample_dataset3.shape"
      ],
      "execution_count": null,
      "outputs": [
        {
          "output_type": "execute_result",
          "data": {
            "text/plain": [
              "(937, 12)"
            ]
          },
          "metadata": {
            "tags": []
          },
          "execution_count": 11
        }
      ]
    },
    {
      "cell_type": "code",
      "metadata": {
        "id": "Avh__X-hExgu"
      },
      "source": [
        "# let us export our final dataframe to csv\n",
        "sample_dataset3.to_csv('hatespeech_sample_data2.csv')"
      ],
      "execution_count": null,
      "outputs": []
    },
    {
      "cell_type": "code",
      "metadata": {
        "id": "dWU1wif67FI8",
        "colab": {
          "base_uri": "https://localhost:8080/"
        },
        "outputId": "19d4677f-5153-44bc-e301-05daafbc22d9"
      },
      "source": [
        "sample_dataset5.shape"
      ],
      "execution_count": null,
      "outputs": [
        {
          "output_type": "execute_result",
          "data": {
            "text/plain": [
              "(960, 12)"
            ]
          },
          "metadata": {
            "tags": []
          },
          "execution_count": 4
        }
      ]
    }
  ]
}